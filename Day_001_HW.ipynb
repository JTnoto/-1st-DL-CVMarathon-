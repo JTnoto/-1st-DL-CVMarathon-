{
 "cells": [
  {
   "cell_type": "markdown",
   "metadata": {},
   "source": [
    "# mean square error 均方誤差\n",
    "\n",
    "\n",
    "$ MSE = \\frac{1}{n}\\sum_{i=1}^{n}{(Y_i - \\hat{Y}_i)^2} $"
   ]
  },
  {
   "cell_type": "code",
   "execution_count": 2,
   "metadata": {},
   "outputs": [],
   "source": [
    "%matplotlib inline\n",
    "import numpy as np\n",
    "import matplotlib.pyplot as plt"
   ]
  },
  {
   "cell_type": "code",
   "execution_count": 5,
   "metadata": {},
   "outputs": [],
   "source": [
    "def mean_absolute_error(y, yp):\n",
    "    mae = sum(abs(y-yp))/len(y)\n",
    "    return mae\n",
    "\n",
    "def mean_squared_error(y_test, y_predict):\n",
    "    mse = np.sum((y_predict-y_test)**2)/len(y_test)\n",
    "    return mse"
   ]
  },
  {
   "cell_type": "code",
   "execution_count": 6,
   "metadata": {},
   "outputs": [
    {
     "data": {
      "image/png": "[encoded data removed]",
      "text/plain": [
       "<Figure size 432x288 with 1 Axes>"
      ]
     },
     "metadata": {
      "needs_background": "light"
     },
     "output_type": "display_data"
    }
   ],
   "source": [
    "a = 3\n",
    "b = 0.5\n",
    "x_lin = np.linspace(0, 100, 101)\n",
    "y = (x_lin + np.random.randn(101) * 5) * a +b\n",
    "\n",
    "plt.plot(x_lin, y, 'b.', label = 'data points')\n",
    "plt.title('assume we have data points')\n",
    "plt.legend(loc=2)\n",
    "plt.show()"
   ]
  },
  {
   "cell_type": "code",
   "execution_count": 8,
   "metadata": {},
   "outputs": [
    {
     "data": {
      "image/png": "[encoded data removed]",
      "text/plain": [
       "<Figure size 432x288 with 1 Axes>"
      ]
     },
     "metadata": {
      "needs_background": "light"
     },
     "output_type": "display_data"
    }
   ],
   "source": [
    "y_hat = x_lin * a + b\n",
    "plt.plot(x_lin, y, 'b.', label='data')\n",
    "plt.plot(x_lin, y_hat, 'r-', label='prediction')\n",
    "plt.title('assume we have data points(and the prediction)')\n",
    "plt.legend(loc=2)\n",
    "plt.show()"
   ]
  },
  {
   "cell_type": "code",
   "execution_count": 9,
   "metadata": {},
   "outputs": [
    {
     "name": "stdout",
     "output_type": "stream",
     "text": [
      "the mean_squared_error is 196.791\n"
     ]
    }
   ],
   "source": [
    "mse = mean_squared_error(y, y_hat)\n",
    "print('the mean_squared_error is %.3f'%(mse))"
   ]
  },
  {
   "cell_type": "markdown",
   "metadata": {},
   "source": [
    "[Understanding Clouds from Satellite Images](https://www.kaggle.com/c/understanding_cloud_organization/overview)"
   ]
  },
  {
   "cell_type": "markdown",
   "metadata": {},
   "source": [
    "# 問題一  你選的這組資料為何重要\n",
    "\n",
    "    1.對環境變化有可預測性\n",
    "    \n",
    "    2.幫助氣象學者增加判斷成功的機率\n",
    "    \n",
    "    3.提前得知降雨機率\n",
    "    \n",
    "    4.對風災、雨災提前防範\n",
    "    \n",
    "   \n",
    "# 問題二 資料從何而來 (tips: 譬如提供者是誰、以什麼方式蒐集)\n",
    "\n",
    "    1.nasa worldview拍攝\n",
    "    \n",
    "    2.範圍篩選在經度21度以及緯度14度之間\n",
    "    \n",
    "    3.有兩個衛星進行觀測，每天個別回傳一張特定地區的雲層照\n",
    "    \n",
    "    4.重複拍到的地區會呈現彩色，沒有的呈現黑色\n",
    "    \n",
    "    5.雲層分類成四種模式蒐集，分別是Fish, Flower, Gravel, Sugar，每個雲層有5.5K張圖像\n",
    "    \n",
    "    6.每個圖片至少有一朵雲被標註，最多到四個\n",
    "\n",
    "# 問題三 蒐集而來的資料型態為何\n",
    "\n",
    "    非結構化的資料為主\n",
    "    \n",
    "    csv跟zip檔，裡面包含圖片(image)、標籤(label)、區塊(segment)\n",
    "    \n",
    "    圖片裡包含負責跑數據的圖檔、能進行預測的圖檔(並且每個預測框格要是350 x 525 px)以及正確的sample圖檔\n",
    "    \n",
    "\n",
    "# 問題四 這組資料想解決的問題如何評估\n",
    "    \n",
    "    準確率、判斷能力、框到的內容正不正確\n",
    "    "
   ]
  },
  {
   "cell_type": "code",
   "execution_count": null,
   "metadata": {},
   "outputs": [],
   "source": []
  },
  {
   "cell_type": "markdown",
   "metadata": {},
   "source": [
    "想像你經營一個自由載客車隊，你希望能透過數據分析以提升業績，請你思考並描述你如何規劃整體的分析/解決方案：\n",
    "\n",
    "1. 核心問題為何 (tips：如何定義 「提升業績 & 你的假設」)\n",
    "\n",
    "2. 資料從何而來 (tips：哪些資料可能會對你想問的問題產生影響 & 資料如何蒐集)\n",
    "\n",
    "3. 蒐集而來的資料型態為何\n",
    "\n",
    "4. 你要回答的問題，其如何評估 (tips：你的假設如何驗證)"
   ]
  },
  {
   "cell_type": "markdown",
   "metadata": {},
   "source": [
    "# 問題一 核心問題\n",
    "    \n",
    "    自由載客車隊的營收圍繞在車子、司機、乘客三者\n",
    "    \n",
    "    >>人群聚集的地方會隨著時間改變，車隊能不能找到需要的客群\n",
    "    \n",
    "    >>乘客可能不知道要去哪裡攔車，車流會比較多\n",
    "    \n",
    "    >>車隊的車子大量聚集在同個地方\n",
    "    \n",
    "# 問題二 資料從何而來\n",
    "        \n",
    "    >>如何蒐集:\n",
    "    找各個車隊裡司機的載客時間跟載客位置(歷史數據)，分析當天的時空情境（星期、時段和區域等）和外部事件（天氣、節慶、活動等）\n",
    "    \n",
    "    \n",
    "# 問題三 資料型態為何\n",
    "    \n",
    "    數值:載客的時間跟地理位置\n",
    "    表格:乘客年齡層\n",
    "    \n",
    "\n",
    "# 問題四 如何評估\n",
    "    \n",
    "    車子有效的減少等待的時間\n",
    "    \n",
    "    車子不再大量聚集停留\n",
    "    "
   ]
  },
  {
   "cell_type": "code",
   "execution_count": null,
   "metadata": {},
   "outputs": [],
   "source": []
  }
 ],
 "metadata": {
  "kernelspec": {
   "display_name": "Python 3",
   "language": "python",
   "name": "python3"
  },
  "language_info": {
   "codemirror_mode": {
    "name": "ipython",
    "version": 3
   },
   "file_extension": ".py",
   "mimetype": "text/x-python",
   "name": "python",
   "nbconvert_exporter": "python",
   "pygments_lexer": "ipython3",
   "version": "3.8.3"
  }
 },
 "nbformat": 4,
 "nbformat_minor": 4
}

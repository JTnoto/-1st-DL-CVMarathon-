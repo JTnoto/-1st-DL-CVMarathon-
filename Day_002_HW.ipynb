{
 "cells": [
  {
   "cell_type": "markdown",
   "metadata": {},
   "source": [
    "## [作業目標]\n",
    "了解機器學習適合應用的領域與範疇。"
   ]
  },
  {
   "cell_type": "markdown",
   "metadata": {},
   "source": [
    "## [作業重點]\n",
    "透過瞭解機器學習的運作方式，找出非常適用機器學習應用的領域及其原因"
   ]
  },
  {
   "cell_type": "markdown",
   "metadata": {},
   "source": [
    "## 作業\n",
    "請找出一個你認為機器學習可以發光發熱的領域並闡述原因? "
   ]
  },
  {
   "cell_type": "markdown",
   "metadata": {},
   "source": [
    " 這次講義提到了，機器學習有著三種學習模式:\n",
    " \n",
    " 一種由人告訴機器what；一種由機器自行學習辨認物件；一種給予有限制的環境讓機器掌握所有可能\n",
    " \n",
    " 我認為機器學習在分析消費者的喜好上可以發展起來。\n",
    " \n",
    " 消費的流程越來越輕鬆，從需要出門採購，到現在不論何處都能購物，然而時間並沒有因此省下多少，因為在選擇上的成本增加了。\n",
    " \n",
    " 例如買一件衣服，從外觀、品牌、成分、價格、尺寸都需要揀選，有時逛完了好幾家也不一定買的到想要的商品，有時送到家裡之後才覺得不合身。\n",
    " \n",
    " 當機器能從消費者的行為中學習最近的需求、慾望，並推薦出市面上符合需求的產品(或是由消費者篩選想出現的推薦內容)，能夠減少你我在選擇時的困難與時間。\n",
    " \n",
    " \n",
    " "
   ]
  },
  {
   "cell_type": "code",
   "execution_count": null,
   "metadata": {},
   "outputs": [],
   "source": []
  }
 ],
 "metadata": {
  "kernelspec": {
   "display_name": "Python 3",
   "language": "python",
   "name": "python3"
  },
  "language_info": {
   "codemirror_mode": {
    "name": "ipython",
    "version": 3
   },
   "file_extension": ".py",
   "mimetype": "text/x-python",
   "name": "python",
   "nbconvert_exporter": "python",
   "pygments_lexer": "ipython3",
   "version": "3.8.3"
  }
 },
 "nbformat": 4,
 "nbformat_minor": 2
}
